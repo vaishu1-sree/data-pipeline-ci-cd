{
 "cells": [
  {
   "cell_type": "code",
   "execution_count": null,
   "id": "d409c0aa",
   "metadata": {},
   "outputs": [],
   "source": [
    "import pandas as pd\n",
    "import os\n",
    "\n",
    "input_folder = '../input_data'\n",
    "output_folder = '../output_data'\n",
    "\n",
    "os.makedirs(f'{output_folder}/clean', exist_ok=True)\n",
    "os.makedirs(f'{output_folder}/corrupted', exist_ok=True)\n",
    "\n",
    "for file in os.listdir(input_folder):\n",
    "    if file.endswith('.csv'):\n",
    "        df = pd.read_csv(f'{input_folder}/{file}')\n",
    "        if df.isnull().values.any():\n",
    "            df.to_csv(f'{output_folder}/corrupted/{file}', index=False)\n",
    "            print(f\"❌ {file} failed quality check.\")\n",
    "        else:\n",
    "            df.to_csv(f'{output_folder}/clean/{file}', index=False)\n",
    "            print(f\"✅ {file} passed quality check.\")\n"
   ]
  }
 ],
 "metadata": {
  "kernelspec": {
   "display_name": "Python 3",
   "language": "python",
   "name": "python3"
  },
  "language_info": {
   "name": "python",
   "version": "3.12.7"
  }
 },
 "nbformat": 4,
 "nbformat_minor": 5
}
