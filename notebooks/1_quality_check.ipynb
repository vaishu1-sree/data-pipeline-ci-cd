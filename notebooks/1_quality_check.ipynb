{
 "cells": [
  {
   "cell_type": "code",
   "execution_count": null,
   "id": "d409c0aa",
   "metadata": {},
   "outputs": [
    {
     "name": "stdout",
     "output_type": "stream",
     "text": [
      "❌ sensor_data_0.csv failed quality check.\n",
      "✅ sensor_data_1.csv passed quality check.\n",
      "✅ sensor_data_2.csv passed quality check.\n",
      "❌ sensor_data_3.csv failed quality check.\n",
      "✅ sensor_data_4.csv passed quality check.\n",
      "✅ sensor_data_5.csv passed quality check.\n",
      "❌ sensor_data_6.csv failed quality check.\n",
      "✅ sensor_data_7.csv passed quality check.\n",
      "✅ sensor_data_8.csv passed quality check.\n",
      "❌ sensor_data_9.csv failed quality check.\n"
     ]
    }
   ],
   "source": [
    "import pandas as pd\n",
    "import os\n",
    "\n",
    "# Navigate to the ROOT of the repo regardless of where the notebook is\n",
    "base_dir = os.path.abspath(os.path.join(os.getcwd(), \"..\"))  # One level up from /notebooks\n",
    "\n",
    "input_folder = os.path.join(base_dir, 'input_data')\n",
    "output_folder = os.path.join(base_dir, 'output_data')\n",
    "\n",
    "# Create necessary directories\n",
    "os.makedirs(os.path.join(output_folder, 'clean'), exist_ok=True)\n",
    "os.makedirs(os.path.join(output_folder, 'corrupted'), exist_ok=True)\n",
    "\n",
    "# Debug print\n",
    "print(f\"Base directory: {base_dir}\")\n",
    "print(f\"Input folder: {input_folder}\")\n",
    "print(f\"Output folder: {output_folder}\")\n",
    "\n",
    "# Process the CSV files\n",
    "for file in os.listdir(input_folder):\n",
    "    if file.endswith('.csv'):\n",
    "        file_path = os.path.join(input_folder, file)\n",
    "        try:\n",
    "            df = pd.read_csv(file_path)\n",
    "            if df.isnull().values.any():\n",
    "                df.to_csv(os.path.join(output_folder, 'corrupted', file), index=False)\n",
    "                print(f\"❌ {file} failed quality check.\")\n",
    "            else:\n",
    "                df.to_csv(os.path.join(output_folder, 'clean', file), index=False)\n",
    "                print(f\"✅ {file} passed quality check.\")\n",
    "        except Exception as e:\n",
    "            print(f\"⚠️ Error processing {file}: {e}\")\n"
   ]
  },
  {
   "cell_type": "markdown",
   "id": "9970cd3b",
   "metadata": {},
   "source": []
  }
 ],
 "metadata": {
  "kernelspec": {
   "display_name": "Python 3",
   "language": "python",
   "name": "python3"
  },
  "language_info": {
   "codemirror_mode": {
    "name": "ipython",
    "version": 3
   },
   "file_extension": ".py",
   "mimetype": "text/x-python",
   "name": "python",
   "nbconvert_exporter": "python",
   "pygments_lexer": "ipython3",
   "version": "3.12.7"
  }
 },
 "nbformat": 4,
 "nbformat_minor": 5
}
