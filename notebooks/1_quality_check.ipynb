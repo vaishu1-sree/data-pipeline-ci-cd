{
 "cells": [
  {
   "cell_type": "code",
   "execution_count": null,
   "id": "d409c0aa",
   "metadata": {},
   "outputs": [
    {
     "name": "stdout",
     "output_type": "stream",
     "text": [
      "❌ sensor_data_0.csv failed quality check.\n",
      "✅ sensor_data_1.csv passed quality check.\n",
      "✅ sensor_data_2.csv passed quality check.\n",
      "❌ sensor_data_3.csv failed quality check.\n",
      "✅ sensor_data_4.csv passed quality check.\n",
      "✅ sensor_data_5.csv passed quality check.\n",
      "❌ sensor_data_6.csv failed quality check.\n",
      "✅ sensor_data_7.csv passed quality check.\n",
      "✅ sensor_data_8.csv passed quality check.\n",
      "❌ sensor_data_9.csv failed quality check.\n"
     ]
    }
   ],
   "source": [
    "import pandas as pd\n",
    "import os\n",
    "\n",
    "# Get the absolute path to the root of the repository\n",
    "base_dir = os.getcwd()  # Get the current working directory (root of your project)\n",
    "\n",
    "# Define the absolute paths for input_data and output_data based on the base directory\n",
    "input_folder = os.path.join(base_dir, 'input_data')  # Absolute path to input_data\n",
    "output_folder = os.path.join(base_dir, 'output_data')  # Absolute path to output_data\n",
    "\n",
    "# Ensure the output directories exist\n",
    "os.makedirs(f'{output_folder}/clean', exist_ok=True)\n",
    "os.makedirs(f'{output_folder}/corrupted', exist_ok=True)\n",
    "\n",
    "# Debugging: Print paths for verification\n",
    "print(f\"Base directory: {base_dir}\")\n",
    "print(f\"Input folder: {input_folder}\")\n",
    "print(f\"Output folder: {output_folder}\")\n",
    "\n",
    "# Process the CSV files\n",
    "for file in os.listdir(input_folder):\n",
    "    if file.endswith('.csv'):\n",
    "        file_path = os.path.join(input_folder, file)  # Absolute file path\n",
    "        \n",
    "        # Debugging: Print file being processed\n",
    "        print(f\"Processing file: {file_path}\")\n",
    "\n",
    "        try:\n",
    "            df = pd.read_csv(file_path)\n",
    "            if df.isnull().values.any():\n",
    "                df.to_csv(f'{output_folder}/corrupted/{file}', index=False)\n",
    "                print(f\"❌ {file} failed quality check.\")\n",
    "            else:\n",
    "                df.to_csv(f'{output_folder}/clean/{file}', index=False)\n",
    "                print(f\"✅ {file} passed quality check.\")\n",
    "        except Exception as e:\n",
    "            print(f\"Error processing {file}: {e}\")\n"
   ]
  }
 ],
 "metadata": {
  "kernelspec": {
   "display_name": "Python 3",
   "language": "python",
   "name": "python3"
  },
  "language_info": {
   "codemirror_mode": {
    "name": "ipython",
    "version": 3
   },
   "file_extension": ".py",
   "mimetype": "text/x-python",
   "name": "python",
   "nbconvert_exporter": "python",
   "pygments_lexer": "ipython3",
   "version": "3.12.7"
  }
 },
 "nbformat": 4,
 "nbformat_minor": 5
}
