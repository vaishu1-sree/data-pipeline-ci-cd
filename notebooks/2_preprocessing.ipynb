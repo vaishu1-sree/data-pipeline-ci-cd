{
 "cells": [
  {
   "cell_type": "code",
   "execution_count": null,
   "id": "ba4c5b79",
   "metadata": {},
   "outputs": [],
   "source": [
    "import pandas as pd\n",
    "import os\n",
    "\n",
    "folder = '../output_data/clean'\n",
    "\n",
    "for file in os.listdir(folder):\n",
    "    df = pd.read_csv(f'{folder}/{file}')\n",
    "    # Normalize each column\n",
    "    for col in ['temperature', 'humidity', 'pressure']:\n",
    "        df[col] = (df[col] - df[col].mean()) / df[col].std()\n",
    "    df.to_csv(f'{folder}/{file}', index=False)\n",
    "    print(f\"🧹 Preprocessed {file}\")\n"
   ]
  }
 ],
 "metadata": {
  "kernelspec": {
   "display_name": "Python 3",
   "language": "python",
   "name": "python3"
  },
  "language_info": {
   "name": "python",
   "version": "3.12.7"
  }
 },
 "nbformat": 4,
 "nbformat_minor": 5
}
