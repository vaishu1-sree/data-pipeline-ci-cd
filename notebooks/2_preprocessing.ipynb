{
 "cells": [
  {
   "cell_type": "code",
   "execution_count": null,
   "id": "ba4c5b79",
   "metadata": {},
   "outputs": [],
   "source": [
    "import pandas as pd\n",
    "import os\n",
    "\n",
    "folder = '../output_data/clean'\n",
    "\n",
    "for file in os.listdir(folder):\n",
    "    file_path = os.path.join(folder, file)\n",
    "\n",
    "    # Skip empty files\n",
    "    if os.path.getsize(file_path) == 0:\n",
    "        print(f\"⚠️ Skipped empty file: {file}\")\n",
    "        continue\n",
    "\n",
    "    try:\n",
    "        df = pd.read_csv(file_path)\n",
    "        if df.empty:\n",
    "            print(f\"⚠️ Skipped empty DataFrame: {file}\")\n",
    "            continue\n",
    "\n",
    "        # Normalize each column\n",
    "        for col in ['temperature', 'humidity', 'pressure']:\n",
    "            if col in df.columns:\n",
    "                df[col] = (df[col] - df[col].mean()) / df[col].std()\n",
    "\n",
    "        df.to_csv(file_path, index=False)\n",
    "        print(f\"🧹 Preprocessed {file}\")\n",
    "\n",
    "    except Exception as e:\n",
    "        print(f\"❌ Failed to process {file}: {e}\")\n"
   ]
  }
 ],
 "metadata": {
  "kernelspec": {
   "display_name": "Python 3",
   "language": "python",
   "name": "python3"
  },
  "language_info": {
   "name": "python",
   "version": "3.12.7"
  }
 },
 "nbformat": 4,
 "nbformat_minor": 5
}
