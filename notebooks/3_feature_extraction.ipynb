{
 "cells": [
  {
   "cell_type": "code",
   "execution_count": null,
   "id": "090b1d86",
   "metadata": {},
   "outputs": [],
   "source": [
    "import pandas as pd\n",
    "import os\n",
    "\n",
    "folder = '../output_data/clean'\n",
    "\n",
    "for file in os.listdir(folder):\n",
    "    df = pd.read_csv(f'{folder}/{file}')\n",
    "    df['temp_ma'] = df['temperature'].rolling(window=5).mean()\n",
    "    df['humidity_sd'] = df['humidity'].rolling(window=5).std()\n",
    "    df.to_csv(f'{folder}/{file}', index=False)\n",
    "    print(f\"📊 Feature extracted for {file}\")\n"
   ]
  }
 ],
 "metadata": {
  "kernelspec": {
   "display_name": "Python 3",
   "language": "python",
   "name": "python3"
  },
  "language_info": {
   "name": "python",
   "version": "3.12.7"
  }
 },
 "nbformat": 4,
 "nbformat_minor": 5
}
