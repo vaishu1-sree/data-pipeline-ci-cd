{
 "cells": [
  {
   "cell_type": "code",
   "execution_count": null,
   "id": "090b1d86",
   "metadata": {},
   "outputs": [],
   "source": [
    "import pandas as pd\n",
    "import os\n",
    "\n",
    "folder = '../output_data/clean'\n",
    "\n",
    "for file in os.listdir(folder):\n",
    "    file_path = os.path.join(folder, file)\n",
    "\n",
    "    # Skip empty files\n",
    "    if os.path.getsize(file_path) == 0:\n",
    "        print(f\"⚠️ Skipped empty file: {file}\")\n",
    "        continue\n",
    "\n",
    "    try:\n",
    "        df = pd.read_csv(file_path)\n",
    "\n",
    "        # Skip DataFrames with missing required columns\n",
    "        if not all(col in df.columns for col in ['temperature', 'humidity']):\n",
    "            print(f\"⚠️ Missing required columns in {file}. Skipping.\")\n",
    "            continue\n",
    "\n",
    "        # Apply rolling features\n",
    "        df['temp_ma'] = df['temperature'].rolling(window=5).mean()\n",
    "        df['humidity_sd'] = df['humidity'].rolling(window=5).std()\n",
    "\n",
    "        df.to_csv(file_path, index=False)\n",
    "        print(f\"📊 Feature extracted for {file}\")\n",
    "\n",
    "    except Exception as e:\n",
    "        print(f\"❌ Failed to process {file}: {e}\")\n"
   ]
  }
 ],
 "metadata": {
  "kernelspec": {
   "display_name": "Python 3",
   "language": "python",
   "name": "python3"
  },
  "language_info": {
   "name": "python",
   "version": "3.12.7"
  }
 },
 "nbformat": 4,
 "nbformat_minor": 5
}
