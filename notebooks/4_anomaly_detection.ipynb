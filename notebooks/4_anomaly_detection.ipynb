{
 "cells": [
  {
   "cell_type": "code",
   "execution_count": null,
   "id": "df3306f3",
   "metadata": {},
   "outputs": [],
   "source": [
    "import pandas as pd\n",
    "import os\n",
    "\n",
    "folder = '../output_data/clean'\n",
    "\n",
    "for file in os.listdir(folder):\n",
    "    file_path = os.path.join(folder, file)\n",
    "\n",
    "    # Skip if the file is empty\n",
    "    if os.path.getsize(file_path) == 0:\n",
    "        print(f\"⚠️ Skipped empty file: {file}\")\n",
    "        continue\n",
    "\n",
    "    try:\n",
    "        df = pd.read_csv(file_path)\n",
    "\n",
    "        # Check if required column exists\n",
    "        if 'temperature' not in df.columns:\n",
    "            print(f\"⚠️ Skipped {file}: 'temperature' column missing.\")\n",
    "            continue\n",
    "\n",
    "        # Basic anomaly detection using Z-score\n",
    "        z_scores = (df['temperature'] - df['temperature'].mean()) / df['temperature'].std()\n",
    "        anomalies = df[z_scores.abs() > 2.5]\n",
    "        print(f\"{file}: 🚨 {len(anomalies)} anomalies detected\")\n",
    "\n",
    "    except Exception as e:\n",
    "        print(f\"❌ Failed to process {file}: {e}\")\n"
   ]
  }
 ],
 "metadata": {
  "kernelspec": {
   "display_name": "Python 3",
   "language": "python",
   "name": "python3"
  },
  "language_info": {
   "name": "python",
   "version": "3.12.7"
  }
 },
 "nbformat": 4,
 "nbformat_minor": 5
}
