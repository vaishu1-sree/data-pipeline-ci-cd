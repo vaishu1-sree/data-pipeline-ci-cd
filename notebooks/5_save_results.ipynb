{
 "cells": [
  {
   "cell_type": "code",
   "execution_count": null,
   "id": "3b5d9826",
   "metadata": {},
   "outputs": [],
   "source": [
    "import os\n",
    "\n",
    "# Get absolute base path\n",
    "base_dir = os.path.abspath(os.path.join(os.getcwd(), '..'))  # From notebooks/ to root\n",
    "\n",
    "# Define folders\n",
    "clean_folder = os.path.join(base_dir, 'output_data', 'clean')\n",
    "corrupted_folder = os.path.join(base_dir, 'output_data', 'corrupted')\n",
    "\n",
    "# Utility to list files safely\n",
    "def list_files(folder_path):\n",
    "    if not os.path.exists(folder_path):\n",
    "        return f\"⚠️ Folder does not exist: {folder_path}\"\n",
    "    files = os.listdir(folder_path)\n",
    "    if not files:\n",
    "        return \"📭 No files found.\"\n",
    "    return '\\n'.join(files)\n",
    "\n",
    "# Print results\n",
    "print(\"📁 Clean files:\")\n",
    "print(list_files(clean_folder))\n",
    "\n",
    "print(\"\\n❌ Corrupted files:\")\n",
    "print(list_files(corrupted_folder))\n"
   ]
  }
 ],
 "metadata": {
  "kernelspec": {
   "display_name": "Python 3",
   "language": "python",
   "name": "python3"
  },
  "language_info": {
   "name": "python",
   "version": "3.12.7"
  }
 },
 "nbformat": 4,
 "nbformat_minor": 5
}
