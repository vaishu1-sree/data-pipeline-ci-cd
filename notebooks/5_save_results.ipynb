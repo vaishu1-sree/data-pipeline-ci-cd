{
 "cells": [
  {
   "cell_type": "code",
   "execution_count": null,
   "id": "3b5d9826",
   "metadata": {},
   "outputs": [],
   "source": [
    "import os\n",
    "\n",
    "print(\"📁 Clean files:\")\n",
    "print(os.listdir('../output_data/clean'))\n",
    "\n",
    "print(\"\\n❌ Corrupted files:\")\n",
    "print(os.listdir('../output_data/corrupted'))\n"
   ]
  }
 ],
 "metadata": {
  "kernelspec": {
   "display_name": "Python 3",
   "language": "python",
   "name": "python3"
  },
  "language_info": {
   "name": "python",
   "version": "3.12.7"
  }
 },
 "nbformat": 4,
 "nbformat_minor": 5
}
