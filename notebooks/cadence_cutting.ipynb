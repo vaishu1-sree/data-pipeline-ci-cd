{
 "cells": [
  {
   "cell_type": "code",
   "execution_count": null,
   "id": "8a1cf4cd",
   "metadata": {},
   "outputs": [],
   "source": [
    "import os\n",
    "import h5py\n",
    "import numpy as np\n",
    "\n",
    "os.makedirs(\"../cadence_data\", exist_ok=True)\n",
    "\n",
    "def segment_file(file_path, chunk_sec=2.0):\n",
    "    with h5py.File(file_path, \"r\") as f:\n",
    "        time = f[\"time\"][:]\n",
    "        speed = f[\"speed\"][:]\n",
    "        vibration = f[\"vibration\"][:]\n",
    "\n",
    "        chunks = []\n",
    "        start = 0\n",
    "        while start < time[-1]:\n",
    "            mask = (time >= start) & (time < start + chunk_sec)\n",
    "            chunks.append((time[mask], speed[mask], vibration[mask]))\n",
    "            start += chunk_sec\n",
    "\n",
    "    # Save each chunk as a separate dataset in new HDF5\n",
    "    out_path = f\"../cadence_data/segmented_{os.path.basename(file_path)}\"\n",
    "    with h5py.File(out_path, \"w\") as f:\n",
    "        for i, (t, s, v) in enumerate(chunks):\n",
    "            grp = f.create_group(f\"chunk_{i}\")\n",
    "            grp.create_dataset(\"time\", data=t)\n",
    "            grp.create_dataset(\"speed\", data=s)\n",
    "            grp.create_dataset(\"vibration\", data=v)\n",
    "\n",
    "files = os.listdir(\"../clean_data\")\n",
    "for file in files:\n",
    "    segment_file(f\"../clean_data/{file}\")\n",
    "    print(f\"✂️ Cadence cut: {file}\")\n"
   ]
  }
 ],
 "metadata": {
  "kernelspec": {
   "display_name": "Python 3",
   "language": "python",
   "name": "python3"
  },
  "language_info": {
   "name": "python",
   "version": "3.12.7"
  }
 },
 "nbformat": 4,
 "nbformat_minor": 5
}
