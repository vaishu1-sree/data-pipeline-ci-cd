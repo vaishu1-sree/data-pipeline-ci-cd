{
 "cells": [
  {
   "cell_type": "code",
   "execution_count": null,
   "id": "ad4c093a",
   "metadata": {},
   "outputs": [
    {
     "ename": "",
     "evalue": "",
     "output_type": "error",
     "traceback": [
      "\u001b[1;31mRunning cells with 'Python 3.12.7' requires the ipykernel package.\n",
      "\u001b[1;31m<a href='command:jupyter.createPythonEnvAndSelectController'>Create a Python Environment</a> with the required packages.\n",
      "\u001b[1;31mOr install 'ipykernel' using the command: 'c:/Users/sreev/AppData/Local/Programs/Python/Python312/python.exe -m pip install ipykernel -U --user --force-reinstall'"
     ]
    }
   ],
   "source": [
    "import os\n",
    "import numpy as np\n",
    "import h5py\n",
    "\n",
    "os.makedirs(\"../raw_data\", exist_ok=True)\n",
    "\n",
    "def create_file(index):\n",
    "    with h5py.File(f\"../raw_data/data_{index}.hdf5\", \"w\") as f:\n",
    "        time = np.linspace(0, 10, 1000)\n",
    "        speed = np.random.normal(60, 5, size=1000)\n",
    "        vibration = np.random.normal(0, 0.02, size=1000)\n",
    "\n",
    "        # Inject bad data in every 3rd file\n",
    "        if index % 3 == 0:\n",
    "            speed[::100] = np.nan\n",
    "        \n",
    "        f.create_dataset(\"time\", data=time)\n",
    "        f.create_dataset(\"speed\", data=speed)\n",
    "        f.create_dataset(\"vibration\", data=vibration)\n",
    "\n",
    "for i in range(10):\n",
    "    create_file(i)\n",
    "\n",
    "print(\"✅ 10 HDF5 files generated.\")\n"
   ]
  }
 ],
 "metadata": {
  "kernelspec": {
   "display_name": "Python 3",
   "language": "python",
   "name": "python3"
  },
  "language_info": {
   "name": "python",
   "version": "3.12.7"
  }
 },
 "nbformat": 4,
 "nbformat_minor": 5
}
