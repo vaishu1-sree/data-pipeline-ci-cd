{
 "cells": [
  {
   "cell_type": "code",
   "execution_count": null,
   "id": "96796d64",
   "metadata": {},
   "outputs": [],
   "source": [
    "import os\n",
    "import h5py\n",
    "import numpy as np\n",
    "\n",
    "os.makedirs(\"../analysis_reports\", exist_ok=True)\n",
    "\n",
    "def analyze(file_path):\n",
    "    results = []\n",
    "    with h5py.File(file_path, \"r\") as f:\n",
    "        for group in f:\n",
    "            vibration = f[group][\"vibration\"][:]\n",
    "            if len(vibration) == 0:\n",
    "                continue\n",
    "            rms = np.sqrt(np.mean(vibration**2))\n",
    "            peak2peak = np.max(vibration) - np.min(vibration)\n",
    "            results.append((group, rms, peak2peak))\n",
    "\n",
    "    report_path = f\"../analysis_reports/{os.path.basename(file_path).replace('.hdf5', '_nvh.txt')}\"\n",
    "    with open(report_path, \"w\") as f:\n",
    "        for group, rms, p2p in results:\n",
    "            f.write(f\"{group} - RMS: {rms:.5f}, P2P: {p2p:.5f}\\n\")\n",
    "\n",
    "files = os.listdir(\"../cadence_data\")\n",
    "for file in files:\n",
    "    analyze(f\"../cadence_data/{file}\")\n",
    "    print(f\"📊 NVH analyzed: {file}\")\n"
   ]
  },
  {
   "cell_type": "code",
   "execution_count": null,
   "id": "fb366ed4",
   "metadata": {},
   "outputs": [],
   "source": []
  }
 ],
 "metadata": {
  "kernelspec": {
   "display_name": "Python 3",
   "language": "python",
   "name": "python3"
  },
  "language_info": {
   "name": "python",
   "version": "3.12.7"
  }
 },
 "nbformat": 4,
 "nbformat_minor": 5
}
