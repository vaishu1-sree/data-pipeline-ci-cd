{
 "cells": [
  {
   "cell_type": "code",
   "execution_count": null,
   "id": "09468e72",
   "metadata": {},
   "outputs": [],
   "source": [
    "import os\n",
    "import numpy as np\n",
    "import h5py\n",
    "import shutil\n",
    "\n",
    "os.makedirs(\"../clean_data\", exist_ok=True)\n",
    "os.makedirs(\"../corrupted_data\", exist_ok=True)\n",
    "\n",
    "def is_valid(file_path):\n",
    "    with h5py.File(file_path, \"r\") as f:\n",
    "        speed = f[\"speed\"][:]\n",
    "        if np.any(np.isnan(speed)) or np.any((speed < 0) | (speed > 150)):\n",
    "            return False\n",
    "    return True\n",
    "\n",
    "files = os.listdir(\"../raw_data\")\n",
    "for file in files:\n",
    "    path = f\"../raw_data/{file}\"\n",
    "    if is_valid(path):\n",
    "        shutil.copy(path, f\"../clean_data/{file}\")\n",
    "        print(f\"✅ Passed: {file}\")\n",
    "    else:\n",
    "        shutil.copy(path, f\"../corrupted_data/{file}\")\n",
    "        print(f\"❌ Failed QC: {file}\")\n"
   ]
  }
 ],
 "metadata": {
  "kernelspec": {
   "display_name": "Python 3",
   "language": "python",
   "name": "python3"
  },
  "language_info": {
   "name": "python",
   "version": "3.12.7"
  }
 },
 "nbformat": 4,
 "nbformat_minor": 5
}
